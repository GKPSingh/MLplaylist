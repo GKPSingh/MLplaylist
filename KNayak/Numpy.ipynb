{
 "cells": [
  {
   "cell_type": "code",
   "execution_count": 1,
   "id": "6e154dce",
   "metadata": {},
   "outputs": [],
   "source": [
    "import numpy as np"
   ]
  },
  {
   "cell_type": "code",
   "execution_count": 2,
   "id": "885a8748",
   "metadata": {},
   "outputs": [],
   "source": [
    "m_l=[1,2,3,4,]"
   ]
  },
  {
   "cell_type": "code",
   "execution_count": 3,
   "id": "ab12143c",
   "metadata": {},
   "outputs": [
    {
     "data": {
      "text/plain": [
       "array([1, 2, 3, 4])"
      ]
     },
     "execution_count": 3,
     "metadata": {},
     "output_type": "execute_result"
    }
   ],
   "source": [
    "ml=np.array(m_l)\n",
    "ml"
   ]
  },
  {
   "cell_type": "code",
   "execution_count": 4,
   "id": "ba7f64d4",
   "metadata": {},
   "outputs": [
    {
     "data": {
      "text/plain": [
       "numpy.ndarray"
      ]
     },
     "execution_count": 4,
     "metadata": {},
     "output_type": "execute_result"
    }
   ],
   "source": [
    "type(ml)"
   ]
  },
  {
   "cell_type": "code",
   "execution_count": 5,
   "id": "9c3ce6c0",
   "metadata": {},
   "outputs": [
    {
     "data": {
      "text/plain": [
       "(4,)"
      ]
     },
     "execution_count": 5,
     "metadata": {},
     "output_type": "execute_result"
    }
   ],
   "source": [
    "ml.shape"
   ]
  },
  {
   "cell_type": "code",
   "execution_count": 6,
   "id": "74ce6028",
   "metadata": {},
   "outputs": [
    {
     "data": {
      "text/plain": [
       "array([[1, 2],\n",
       "       [3, 4]])"
      ]
     },
     "execution_count": 6,
     "metadata": {},
     "output_type": "execute_result"
    }
   ],
   "source": [
    "ml.reshape(2,2)"
   ]
  },
  {
   "cell_type": "code",
   "execution_count": 7,
   "id": "5fe7688f",
   "metadata": {},
   "outputs": [],
   "source": [
    "m_l2 = [[1,2,3],[4,5,6]]"
   ]
  },
  {
   "cell_type": "code",
   "execution_count": 8,
   "id": "954b6df0",
   "metadata": {},
   "outputs": [
    {
     "data": {
      "text/plain": [
       "array([[1, 2, 3],\n",
       "       [4, 5, 6]])"
      ]
     },
     "execution_count": 8,
     "metadata": {},
     "output_type": "execute_result"
    }
   ],
   "source": [
    "ml2=np.array(m_l2)\n",
    "ml2"
   ]
  },
  {
   "cell_type": "code",
   "execution_count": 9,
   "id": "3b600973",
   "metadata": {},
   "outputs": [
    {
     "data": {
      "text/plain": [
       "array([[1, 2],\n",
       "       [3, 4],\n",
       "       [5, 6]])"
      ]
     },
     "execution_count": 9,
     "metadata": {},
     "output_type": "execute_result"
    }
   ],
   "source": [
    "ml2.reshape(3,2)"
   ]
  },
  {
   "cell_type": "code",
   "execution_count": 10,
   "id": "41bca7d8",
   "metadata": {},
   "outputs": [
    {
     "data": {
      "text/plain": [
       "5"
      ]
     },
     "execution_count": 10,
     "metadata": {},
     "output_type": "execute_result"
    }
   ],
   "source": [
    "ml2[1,1]"
   ]
  },
  {
   "cell_type": "code",
   "execution_count": 11,
   "id": "15c9326c",
   "metadata": {},
   "outputs": [],
   "source": [
    "m_l3 = ([[1,2,3,4,5],[6,7,8,9,10],[11,12,13,14,15]])\n",
    "ml3=np.array(m_l3)"
   ]
  },
  {
   "cell_type": "code",
   "execution_count": 12,
   "id": "4d78d95a",
   "metadata": {},
   "outputs": [
    {
     "data": {
      "text/plain": [
       "array([[ 1,  2,  3,  4,  5],\n",
       "       [ 6,  7,  8,  9, 10],\n",
       "       [11, 12, 13, 14, 15]])"
      ]
     },
     "execution_count": 12,
     "metadata": {},
     "output_type": "execute_result"
    }
   ],
   "source": [
    "ml3"
   ]
  },
  {
   "cell_type": "code",
   "execution_count": 13,
   "id": "f8ea92d9",
   "metadata": {},
   "outputs": [
    {
     "data": {
      "text/plain": [
       "array([[7, 8, 9]])"
      ]
     },
     "execution_count": 13,
     "metadata": {},
     "output_type": "execute_result"
    }
   ],
   "source": [
    "ml3[1:2,1:4]"
   ]
  },
  {
   "cell_type": "code",
   "execution_count": 14,
   "id": "37418aae",
   "metadata": {},
   "outputs": [
    {
     "data": {
      "text/plain": [
       "array([1, 3, 5, 7, 9])"
      ]
     },
     "execution_count": 14,
     "metadata": {},
     "output_type": "execute_result"
    }
   ],
   "source": [
    "ml4=np.arange(1,10,2)\n",
    "ml4"
   ]
  },
  {
   "cell_type": "code",
   "execution_count": 15,
   "id": "67ec2673",
   "metadata": {
    "scrolled": true
   },
   "outputs": [
    {
     "data": {
      "text/plain": [
       "array([ 1.        ,  1.18367347,  1.36734694,  1.55102041,  1.73469388,\n",
       "        1.91836735,  2.10204082,  2.28571429,  2.46938776,  2.65306122,\n",
       "        2.83673469,  3.02040816,  3.20408163,  3.3877551 ,  3.57142857,\n",
       "        3.75510204,  3.93877551,  4.12244898,  4.30612245,  4.48979592,\n",
       "        4.67346939,  4.85714286,  5.04081633,  5.2244898 ,  5.40816327,\n",
       "        5.59183673,  5.7755102 ,  5.95918367,  6.14285714,  6.32653061,\n",
       "        6.51020408,  6.69387755,  6.87755102,  7.06122449,  7.24489796,\n",
       "        7.42857143,  7.6122449 ,  7.79591837,  7.97959184,  8.16326531,\n",
       "        8.34693878,  8.53061224,  8.71428571,  8.89795918,  9.08163265,\n",
       "        9.26530612,  9.44897959,  9.63265306,  9.81632653, 10.        ])"
      ]
     },
     "execution_count": 15,
     "metadata": {},
     "output_type": "execute_result"
    }
   ],
   "source": [
    "ml5 = np.linspace(1,10,50)\n",
    "ml5"
   ]
  },
  {
   "cell_type": "code",
   "execution_count": 16,
   "id": "2eb1c630",
   "metadata": {
    "scrolled": true
   },
   "outputs": [
    {
     "data": {
      "text/plain": [
       "array([ 1.        ,  1.18367347,  1.36734694, 50.        , 50.        ,\n",
       "       50.        , 50.        , 50.        , 50.        , 50.        ,\n",
       "       50.        , 50.        , 50.        , 50.        , 50.        ,\n",
       "       50.        , 50.        , 50.        , 50.        , 50.        ,\n",
       "       50.        , 50.        , 50.        , 50.        , 50.        ,\n",
       "       50.        , 50.        , 50.        , 50.        , 50.        ,\n",
       "       50.        , 50.        , 50.        , 50.        , 50.        ,\n",
       "       50.        , 50.        , 50.        , 50.        , 50.        ,\n",
       "       50.        , 50.        , 50.        , 50.        , 50.        ,\n",
       "       50.        , 50.        , 50.        , 50.        , 50.        ])"
      ]
     },
     "execution_count": 16,
     "metadata": {},
     "output_type": "execute_result"
    }
   ],
   "source": [
    "ml5[3:]=50\n",
    "ml5"
   ]
  },
  {
   "cell_type": "markdown",
   "id": "7bb90cbf",
   "metadata": {},
   "source": [
    "## Making the copy of array"
   ]
  },
  {
   "cell_type": "code",
   "execution_count": 17,
   "id": "901e97b3",
   "metadata": {},
   "outputs": [
    {
     "data": {
      "text/plain": [
       "array([ 1.        ,  1.18367347,  1.36734694, 50.        , 50.        ,\n",
       "       50.        , 50.        , 50.        , 50.        , 50.        ,\n",
       "       50.        , 50.        , 50.        , 50.        , 50.        ,\n",
       "       50.        , 50.        , 50.        , 50.        , 50.        ,\n",
       "       50.        , 50.        , 50.        , 50.        , 50.        ,\n",
       "       50.        , 50.        , 50.        , 50.        , 50.        ,\n",
       "       50.        , 50.        , 50.        , 50.        , 50.        ,\n",
       "       50.        , 50.        , 50.        , 50.        , 50.        ,\n",
       "       50.        , 50.        , 50.        , 50.        , 50.        ,\n",
       "       50.        , 50.        , 50.        , 50.        , 50.        ])"
      ]
     },
     "execution_count": 17,
     "metadata": {},
     "output_type": "execute_result"
    }
   ],
   "source": [
    "arr=ml5.copy()\n",
    "arr"
   ]
  },
  {
   "cell_type": "code",
   "execution_count": 18,
   "id": "ecbeb931",
   "metadata": {
    "scrolled": true
   },
   "outputs": [
    {
     "data": {
      "text/plain": [
       "array([1.        , 1.18367347, 1.36734694])"
      ]
     },
     "execution_count": 18,
     "metadata": {},
     "output_type": "execute_result"
    }
   ],
   "source": [
    "arr[arr<50]"
   ]
  },
  {
   "cell_type": "code",
   "execution_count": 27,
   "id": "d8281285",
   "metadata": {},
   "outputs": [
    {
     "data": {
      "text/plain": [
       "array([1., 1., 1.])"
      ]
     },
     "execution_count": 27,
     "metadata": {},
     "output_type": "execute_result"
    }
   ],
   "source": [
    "np.ones(3)"
   ]
  },
  {
   "cell_type": "code",
   "execution_count": 26,
   "id": "1af6c2d4",
   "metadata": {
    "scrolled": true
   },
   "outputs": [
    {
     "data": {
      "text/plain": [
       "array([[1, 1, 1, 1],\n",
       "       [1, 1, 1, 1],\n",
       "       [1, 1, 1, 1],\n",
       "       [1, 1, 1, 1]])"
      ]
     },
     "execution_count": 26,
     "metadata": {},
     "output_type": "execute_result"
    }
   ],
   "source": [
    "np.ones((4,4),int)"
   ]
  },
  {
   "cell_type": "code",
   "execution_count": 20,
   "id": "74b1923d",
   "metadata": {},
   "outputs": [
    {
     "data": {
      "text/plain": [
       "array([[0.65489469, 0.89429869, 0.59232733],\n",
       "       [0.99497636, 0.25344397, 0.91321585],\n",
       "       [0.97658765, 0.97665508, 0.41918335]])"
      ]
     },
     "execution_count": 20,
     "metadata": {},
     "output_type": "execute_result"
    }
   ],
   "source": [
    "np.random.rand(3,3)"
   ]
  },
  {
   "cell_type": "code",
   "execution_count": 21,
   "id": "91411bc8",
   "metadata": {},
   "outputs": [
    {
     "data": {
      "text/plain": [
       "array([[ 0.53230978,  0.24830495,  0.17832405],\n",
       "       [ 0.20605134, -0.65418393, -1.34908327],\n",
       "       [ 0.69364923,  1.34473228, -0.2359658 ]])"
      ]
     },
     "execution_count": 21,
     "metadata": {},
     "output_type": "execute_result"
    }
   ],
   "source": [
    "a = np.random.randn(3,3)\n",
    "a"
   ]
  },
  {
   "cell_type": "code",
   "execution_count": 22,
   "id": "ae92ae76",
   "metadata": {},
   "outputs": [
    {
     "data": {
      "text/plain": [
       "array([5, 7, 6, 2, 1, 1])"
      ]
     },
     "execution_count": 22,
     "metadata": {},
     "output_type": "execute_result"
    }
   ],
   "source": [
    "np.random.randint(1,10,6)"
   ]
  },
  {
   "cell_type": "code",
   "execution_count": 23,
   "id": "8581f14b",
   "metadata": {},
   "outputs": [],
   "source": [
    "import pandas as pd\n",
    "import seaborn as sns"
   ]
  },
  {
   "cell_type": "code",
   "execution_count": 24,
   "id": "ab7be9d5",
   "metadata": {},
   "outputs": [
    {
     "data": {
      "text/plain": [
       "array([[0.81792713, 0.29149267, 0.4694191 , 0.602139  , 0.38864253]])"
      ]
     },
     "execution_count": 24,
     "metadata": {},
     "output_type": "execute_result"
    }
   ],
   "source": [
    "np.random.random_sample((1,5))"
   ]
  },
  {
   "cell_type": "code",
   "execution_count": 25,
   "id": "737aed40",
   "metadata": {},
   "outputs": [
    {
     "name": "stderr",
     "output_type": "stream",
     "text": [
      "/Users/gurkirpalparmar/opt/anaconda3/lib/python3.8/site-packages/seaborn/distributions.py:2557: FutureWarning: `distplot` is a deprecated function and will be removed in a future version. Please adapt your code to use either `displot` (a figure-level function with similar flexibility) or `histplot` (an axes-level function for histograms).\n",
      "  warnings.warn(msg, FutureWarning)\n"
     ]
    },
    {
     "data": {
      "text/plain": [
       "<AxesSubplot:ylabel='Density'>"
      ]
     },
     "execution_count": 25,
     "metadata": {},
     "output_type": "execute_result"
    },
    {
     "data": {
      "image/png": "[encoded data removed]",
      "text/plain": [
       "<Figure size 432x288 with 1 Axes>"
      ]
     },
     "metadata": {
      "needs_background": "light"
     },
     "output_type": "display_data"
    }
   ],
   "source": [
    "sns.distplot(pd.DataFrame(a))"
   ]
  },
  {
   "cell_type": "code",
   "execution_count": null,
   "id": "a98f7864",
   "metadata": {},
   "outputs": [],
   "source": []
  }
 ],
 "metadata": {
  "kernelspec": {
   "display_name": "Python 3",
   "language": "python",
   "name": "python3"
  },
  "language_info": {
   "codemirror_mode": {
    "name": "ipython",
    "version": 3
   },
   "file_extension": ".py",
   "mimetype": "text/x-python",
   "name": "python",
   "nbconvert_exporter": "python",
   "pygments_lexer": "ipython3",
   "version": "3.8.8"
  }
 },
 "nbformat": 4,
 "nbformat_minor": 5
}
